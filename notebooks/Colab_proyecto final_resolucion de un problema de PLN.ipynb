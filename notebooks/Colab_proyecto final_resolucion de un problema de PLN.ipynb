{
  "cells": [
    {
      "cell_type": "markdown",
      "metadata": {
        "id": "X_r_H-U087oX"
      },
      "source": [
        "## **Descarga y carga del modelo Word2Vec de Google News**"
      ]
    },
    {
      "cell_type": "code",
      "execution_count": 1,
      "metadata": {
        "colab": {
          "base_uri": "https://localhost:8080/"
        },
        "id": "iksCqm5Y7SeU",
        "outputId": "2aa2d53b-04b0-4edb-d577-b9baa9b41947"
      },
      "outputs": [
        {
          "output_type": "stream",
          "name": "stdout",
          "text": [
            "Collecting gensim\n",
            "  Downloading gensim-4.3.3-cp311-cp311-manylinux_2_17_x86_64.manylinux2014_x86_64.whl.metadata (8.1 kB)\n",
            "Collecting numpy<2.0,>=1.18.5 (from gensim)\n",
            "  Downloading numpy-1.26.4-cp311-cp311-manylinux_2_17_x86_64.manylinux2014_x86_64.whl.metadata (61 kB)\n",
            "\u001b[2K     \u001b[90m━━━━━━━━━━━━━━━━━━━━━━━━━━━━━━━━━━━━━━━━\u001b[0m \u001b[32m61.0/61.0 kB\u001b[0m \u001b[31m2.0 MB/s\u001b[0m eta \u001b[36m0:00:00\u001b[0m\n",
            "\u001b[?25hCollecting scipy<1.14.0,>=1.7.0 (from gensim)\n",
            "  Downloading scipy-1.13.1-cp311-cp311-manylinux_2_17_x86_64.manylinux2014_x86_64.whl.metadata (60 kB)\n",
            "\u001b[2K     \u001b[90m━━━━━━━━━━━━━━━━━━━━━━━━━━━━━━━━━━━━━━━━\u001b[0m \u001b[32m60.6/60.6 kB\u001b[0m \u001b[31m3.7 MB/s\u001b[0m eta \u001b[36m0:00:00\u001b[0m\n",
            "\u001b[?25hRequirement already satisfied: smart-open>=1.8.1 in /usr/local/lib/python3.11/dist-packages (from gensim) (7.1.0)\n",
            "Requirement already satisfied: wrapt in /usr/local/lib/python3.11/dist-packages (from smart-open>=1.8.1->gensim) (1.17.2)\n",
            "Downloading gensim-4.3.3-cp311-cp311-manylinux_2_17_x86_64.manylinux2014_x86_64.whl (26.7 MB)\n",
            "\u001b[2K   \u001b[90m━━━━━━━━━━━━━━━━━━━━━━━━━━━━━━━━━━━━━━━━\u001b[0m \u001b[32m26.7/26.7 MB\u001b[0m \u001b[31m84.8 MB/s\u001b[0m eta \u001b[36m0:00:00\u001b[0m\n",
            "\u001b[?25hDownloading numpy-1.26.4-cp311-cp311-manylinux_2_17_x86_64.manylinux2014_x86_64.whl (18.3 MB)\n",
            "\u001b[2K   \u001b[90m━━━━━━━━━━━━━━━━━━━━━━━━━━━━━━━━━━━━━━━━\u001b[0m \u001b[32m18.3/18.3 MB\u001b[0m \u001b[31m97.0 MB/s\u001b[0m eta \u001b[36m0:00:00\u001b[0m\n",
            "\u001b[?25hDownloading scipy-1.13.1-cp311-cp311-manylinux_2_17_x86_64.manylinux2014_x86_64.whl (38.6 MB)\n",
            "\u001b[2K   \u001b[90m━━━━━━━━━━━━━━━━━━━━━━━━━━━━━━━━━━━━━━━━\u001b[0m \u001b[32m38.6/38.6 MB\u001b[0m \u001b[31m58.2 MB/s\u001b[0m eta \u001b[36m0:00:00\u001b[0m\n",
            "\u001b[?25hInstalling collected packages: numpy, scipy, gensim\n",
            "  Attempting uninstall: numpy\n",
            "    Found existing installation: numpy 2.0.2\n",
            "    Uninstalling numpy-2.0.2:\n",
            "      Successfully uninstalled numpy-2.0.2\n",
            "  Attempting uninstall: scipy\n",
            "    Found existing installation: scipy 1.15.2\n",
            "    Uninstalling scipy-1.15.2:\n",
            "      Successfully uninstalled scipy-1.15.2\n",
            "\u001b[31mERROR: pip's dependency resolver does not currently take into account all the packages that are installed. This behaviour is the source of the following dependency conflicts.\n",
            "thinc 8.3.6 requires numpy<3.0.0,>=2.0.0, but you have numpy 1.26.4 which is incompatible.\u001b[0m\u001b[31m\n",
            "\u001b[0mSuccessfully installed gensim-4.3.3 numpy-1.26.4 scipy-1.13.1\n"
          ]
        }
      ],
      "source": [
        "!pip install gensim\n"
      ]
    },
    {
      "cell_type": "markdown",
      "source": [
        "## **BLOQUE 1: CONFIGURACIÓN INICIAL**"
      ],
      "metadata": {
        "id": "sWduaaFqBqcw"
      }
    },
    {
      "cell_type": "code",
      "execution_count": 1,
      "metadata": {
        "id": "IYKVpJwIXK9c"
      },
      "outputs": [],
      "source": [
        "# Importación de librerías\n",
        "import os\n",
        "import random\n",
        "import numpy as np\n",
        "import pandas as pd\n",
        "import matplotlib.pyplot as plt\n",
        "import zipfile\n",
        "\n",
        "\n",
        "# Para procesamiento de texto\n",
        "import re\n",
        "import nltk\n",
        "from nltk.tokenize import word_tokenize\n",
        "from nltk.corpus import stopwords\n",
        "\n",
        "# Para modelos\n",
        "from gensim.models import Word2Vec\n",
        "from tensorflow.keras.preprocessing.sequence import pad_sequences\n",
        "from tensorflow.keras.models import Sequential\n",
        "from tensorflow.keras.layers import Embedding, LSTM, Dense\n",
        "from tensorflow.keras.optimizers import Adam\n",
        "from gensim.models import KeyedVectors  # ✅ correcto\n",
        "\n",
        "\n",
        "# Confirmacion de reproducibilidad\n",
        "import tensorflow as tf\n",
        "\n"
      ]
    },
    {
      "cell_type": "markdown",
      "source": [
        "## **BLOQUE 2: PREPROCESAMIENTO DE TEXTOS**"
      ],
      "metadata": {
        "id": "DJqKWiluB4hf"
      }
    },
    {
      "cell_type": "code",
      "execution_count": 2,
      "metadata": {
        "colab": {
          "base_uri": "https://localhost:8080/"
        },
        "id": "-zP5V4ONaPVX",
        "outputId": "76a8f018-9386-4a09-cdf2-edcee5c63060"
      },
      "outputs": [
        {
          "output_type": "stream",
          "name": "stderr",
          "text": [
            "[nltk_data] Downloading package punkt to /root/nltk_data...\n",
            "[nltk_data]   Unzipping tokenizers/punkt.zip.\n",
            "[nltk_data] Downloading package stopwords to /root/nltk_data...\n",
            "[nltk_data]   Unzipping corpora/stopwords.zip.\n",
            "[nltk_data] Downloading package punkt_tab to /root/nltk_data...\n",
            "[nltk_data]   Unzipping tokenizers/punkt_tab.zip.\n"
          ]
        },
        {
          "output_type": "stream",
          "name": "stdout",
          "text": [
            "✅ Texto preprocesado: ['hola', 'hermano', 'cómo', 'primer', 'texto', 'procesar']\n"
          ]
        }
      ],
      "source": [
        "\n",
        "import re\n",
        "import nltk\n",
        "from nltk.tokenize import word_tokenize\n",
        "from nltk.corpus import stopwords\n",
        "\n",
        "\n",
        "nltk.download('punkt')\n",
        "nltk.download('stopwords')\n",
        "nltk.download('punkt_tab')\n",
        "\n",
        "# Lista de stopwords en español\n",
        "STOPWORDS = set(stopwords.words('spanish'))\n",
        "\n",
        "\n",
        "# Limpieza del texto\n",
        "def clean_text(text):\n",
        "    \"\"\"\n",
        "    Limpia el texto eliminando caracteres no alfabéticos y pasando todo a minúsculas.\n",
        "    \"\"\"\n",
        "    # Eliminación de caracteres no letras\n",
        "    text = re.sub(r'[^a-zA-ZáéíóúüñÁÉÍÓÚÜÑ\\s]', '', text)\n",
        "\n",
        "    # Pasar a minúsculas\n",
        "    text = text.lower()\n",
        "\n",
        "    # Eliminación de espacios múltiples\n",
        "    text = re.sub(r'\\s+', ' ', text).strip()\n",
        "\n",
        "    return text\n",
        "\n",
        "\n",
        "# Función para tokenizar el texto\n",
        "def tokenize_text(text):\n",
        "    \"\"\"\n",
        "    Tokeniza el texto en palabras, eliminando stopwords.\n",
        "    \"\"\"\n",
        "    tokens = word_tokenize(text, language='spanish')\n",
        "    tokens = [word for word in tokens if word not in STOPWORDS]\n",
        "    return tokens\n",
        "\n",
        "\n",
        "# Función completa para preparacion de textos\n",
        "def preprocess_text(text):\n",
        "    \"\"\"\n",
        "    Aplica limpieza + tokenización a un texto dado.\n",
        "    \"\"\"\n",
        "    cleaned_text = clean_text(text)\n",
        "    tokens = tokenize_text(cleaned_text)\n",
        "    return tokens\n",
        "\n",
        "\n",
        "# Prueba en un texto suelto:\n",
        "example_text = \"¡Hola hermano! ¿Cómo estás? Este es nuestro primer texto para procesar.\"\n",
        "tokens = preprocess_text(example_text)\n",
        "\n",
        "print(\"✅ Texto preprocesado:\", tokens)\n"
      ]
    },
    {
      "cell_type": "code",
      "execution_count": 3,
      "metadata": {
        "colab": {
          "base_uri": "https://localhost:8080/"
        },
        "id": "Yv-VfjHgFQYa",
        "outputId": "c4582a3b-31c5-498e-dee6-17e30b6ccfee"
      },
      "outputs": [
        {
          "output_type": "stream",
          "name": "stdout",
          "text": [
            "✅ Modelo Word2Vec cargado exitosamente.\n"
          ]
        }
      ],
      "source": [
        "from gensim.models import KeyedVectors\n",
        "\n",
        "w2v_model = KeyedVectors.load_word2vec_format(\n",
        "    '/content/drive/MyDrive/Topicos Especiales 2/Proyecto Final/GoogleNews-vectors-negative300.bin',\n",
        "    binary=True\n",
        ")\n",
        "\n",
        "print(\"✅ Modelo Word2Vec cargado exitosamente.\")\n"
      ]
    },
    {
      "cell_type": "markdown",
      "source": [
        "## **BLOQUE 3: VECTORIZACIÓN CON WORD2VEC**"
      ],
      "metadata": {
        "id": "0s5lNhNHCWoX"
      }
    },
    {
      "cell_type": "code",
      "execution_count": 4,
      "metadata": {
        "colab": {
          "base_uri": "https://localhost:8080/"
        },
        "id": "rma1hAuBarVb",
        "outputId": "d335c264-517f-4b6c-c569-19cb51fe442b"
      },
      "outputs": [
        {
          "output_type": "stream",
          "name": "stdout",
          "text": [
            "✅ Número de vectores obtenidos: 5\n",
            "Dimensión de cada vector: (300,)\n"
          ]
        }
      ],
      "source": [
        "\n",
        "def vectorize_text(tokens, w2v_model, vector_size=300):\n",
        "    \"\"\"\n",
        "    Convierte una lista de tokens en una lista de vectores usando Word2Vec.\n",
        "    Si una palabra no está en el vocabulario, se ignora.\n",
        "    \"\"\"\n",
        "    vectors = []\n",
        "    for word in tokens:\n",
        "        if word in w2v_model:\n",
        "            vectors.append(w2v_model[word])\n",
        "        else:\n",
        "            continue\n",
        "    return vectors\n",
        "\n",
        "\n",
        "# Prueba de uso, usamos ejemplo\n",
        "example_vectors = vectorize_text(tokens, w2v_model)\n",
        "\n",
        "print(f\"✅ Número de vectores obtenidos: {len(example_vectors)}\")\n",
        "print(f\"Dimensión de cada vector: {example_vectors[0].shape if example_vectors else 'N/A'}\")\n"
      ]
    },
    {
      "cell_type": "markdown",
      "metadata": {
        "id": "PFsmv0NVZgSr"
      },
      "source": [
        "# **Generación de dataset sintético realista usando Word2Vec**"
      ]
    },
    {
      "cell_type": "code",
      "execution_count": 5,
      "metadata": {
        "colab": {
          "base_uri": "https://localhost:8080/"
        },
        "id": "AXvkFrmmcoCr",
        "outputId": "f50155bf-4824-4aa7-b46d-595ed07d6ad8"
      },
      "outputs": [
        {
          "output_type": "stream",
          "name": "stderr",
          "text": [
            "[nltk_data] Downloading package punkt to /root/nltk_data...\n",
            "[nltk_data]   Package punkt is already up-to-date!\n",
            "[nltk_data] Downloading package stopwords to /root/nltk_data...\n",
            "[nltk_data]   Package stopwords is already up-to-date!\n",
            "[nltk_data] Downloading package punkt_tab to /root/nltk_data...\n",
            "[nltk_data]   Package punkt_tab is already up-to-date!\n"
          ]
        },
        {
          "output_type": "stream",
          "name": "stdout",
          "text": [
            "✅ Modelo Word2Vec cargado\n"
          ]
        }
      ],
      "source": [
        "# Importar librerías necesarias\n",
        "import os\n",
        "import random\n",
        "import numpy as np\n",
        "import pandas as pd\n",
        "import matplotlib.pyplot as plt\n",
        "\n",
        "import nltk\n",
        "nltk.download('punkt')\n",
        "nltk.download('stopwords')\n",
        "nltk.download('punkt_tab')\n",
        "from nltk.tokenize import word_tokenize\n",
        "from nltk.corpus import stopwords\n",
        "\n",
        "from gensim.models import KeyedVectors\n",
        "from sklearn.model_selection import train_test_split\n",
        "\n",
        "from tensorflow.keras.models import Sequential\n",
        "from tensorflow.keras.layers import LSTM, Dense, Dropout\n",
        "from tensorflow.keras.optimizers import Adam\n",
        "\n",
        "# Establecer semilla\n",
        "SEED = 42\n",
        "random.seed(SEED)\n",
        "np.random.seed(SEED)\n",
        "\n",
        "# Cargar modelo Word2Vec (.bin)\n",
        "w2v_model = KeyedVectors.load_word2vec_format(\n",
        "    '/content/drive/MyDrive/Topicos Especiales 2/Proyecto Final/GoogleNews-vectors-negative300.bin',\n",
        "    binary=True\n",
        ")\n",
        "print(\"✅ Modelo Word2Vec cargado\")\n"
      ]
    },
    {
      "cell_type": "markdown",
      "metadata": {
        "id": "HOI_9JZ7d0Lu"
      },
      "source": [
        "# **Dataset sintético balanceado y realista (500.000 textos)**"
      ]
    },
    {
      "cell_type": "code",
      "execution_count": 6,
      "metadata": {
        "colab": {
          "base_uri": "https://localhost:8080/"
        },
        "id": "BEDzgPaEd13r",
        "outputId": "42d46da1-eeac-4eb6-d9a4-db55b8611fc8"
      },
      "outputs": [
        {
          "output_type": "stream",
          "name": "stdout",
          "text": [
            "✅ Dataset generado: 500000 textos sintéticos\n",
            "Ejemplo: monarch duchess dynasty gown duke gown court monarch king scepter chivalry prince sovereign kingdom lord -> 1\n"
          ]
        }
      ],
      "source": [
        "\n",
        "# Palabras clase 1: nobleza / realeza (ampliado)\n",
        "clase_1_palabras = [\n",
        "    \"king\", \"queen\", \"prince\", \"princess\", \"duke\", \"duchess\", \"monarch\", \"noble\",\n",
        "    \"throne\", \"palace\", \"castle\", \"crown\", \"royal\", \"heir\", \"regent\", \"lord\",\n",
        "    \"lady\", \"sovereign\", \"dynasty\", \"realm\", \"court\", \"empire\", \"nobility\", \"kingdom\",\n",
        "    \"scepter\", \"lineage\", \"chivalry\", \"aristocracy\", \"gown\", \"herald\"\n",
        "]\n",
        "\n",
        "# Palabras clase 0: transporte / automotores (ampliado)\n",
        "clase_0_palabras = [\n",
        "    \"car\", \"truck\", \"bus\", \"train\", \"metro\", \"van\", \"engine\", \"wheel\", \"garage\",\n",
        "    \"fuel\", \"brake\", \"horn\", \"steering\", \"tire\", \"gear\", \"diesel\", \"driver\",\n",
        "    \"transmission\", \"mirror\", \"bumper\", \"exhaust\", \"chassis\", \"dashboard\", \"airbag\",\n",
        "    \"mechanic\", \"road\", \"highway\", \"parking\", \"traffic\", \"windshield\"\n",
        "]\n",
        "\n",
        "# Función para generar frases más largas y variadas\n",
        "def generar_frases(palabras, cantidad=250000, longitud=15):\n",
        "    frases = []\n",
        "    for _ in range(cantidad):\n",
        "        frase = \" \".join(random.choices(palabras, k=longitud))\n",
        "        frases.append(frase)\n",
        "    return frases\n",
        "\n",
        "# Generar frases\n",
        "frases_clase_1 = generar_frases(clase_1_palabras, cantidad=250000)\n",
        "frases_clase_0 = generar_frases(clase_0_palabras, cantidad=250000)\n",
        "\n",
        "# Combinar y etiquetar\n",
        "texts = frases_clase_1 + frases_clase_0\n",
        "labels = [1]*250000 + [0]*250000\n",
        "\n",
        "# Mezclar el dataset\n",
        "combined = list(zip(texts, labels))\n",
        "random.shuffle(combined)\n",
        "texts, labels = zip(*combined)\n",
        "\n",
        "print(f\"✅ Dataset generado: {len(texts)} textos sintéticos\")\n",
        "print(\"Ejemplo:\", texts[0], \"->\", labels[0])\n"
      ]
    },
    {
      "cell_type": "markdown",
      "metadata": {
        "id": "cQNMl3oAe7I5"
      },
      "source": [
        "# **BLOQUE 2: Preprocesar + Vectorizar todo el dataset**"
      ]
    },
    {
      "cell_type": "code",
      "execution_count": 7,
      "metadata": {
        "colab": {
          "base_uri": "https://localhost:8080/"
        },
        "id": "rTr6pjA2e8uY",
        "outputId": "f7d1b6d4-4ec2-4d71-d942-57112edc1d36"
      },
      "outputs": [
        {
          "output_type": "stream",
          "name": "stdout",
          "text": [
            "✅ Textos vectorizados: 500000 ejemplos\n"
          ]
        }
      ],
      "source": [
        "# Función de preprocesamiento (limpieza + tokenización)\n",
        "def preprocess_text(text):\n",
        "    text = re.sub(r'[^a-zA-Z\\s]', '', text)\n",
        "    text = text.lower()\n",
        "    tokens = word_tokenize(text)\n",
        "    tokens = [word for word in tokens if word not in stopwords.words('english')]\n",
        "    return tokens\n",
        "\n",
        "# Función para vectorizar\n",
        "def vectorize_text(tokens, w2v_model, vector_size=300):\n",
        "    vectors = []\n",
        "    for word in tokens:\n",
        "        if word in w2v_model:\n",
        "            vectors.append(w2v_model[word])\n",
        "    return vectors\n",
        "\n",
        "# Preprocesar y vectorizar todo el dataset\n",
        "tokenized_texts = [preprocess_text(text) for text in texts]\n",
        "vectorized_texts = [vectorize_text(tokens, w2v_model) for tokens in tokenized_texts]\n",
        "\n",
        "# Eliminar textos que no generaron vectores\n",
        "X = []\n",
        "y = []\n",
        "for vecs, label in zip(vectorized_texts, labels):\n",
        "    if len(vecs) > 0:\n",
        "        X.append(vecs)\n",
        "        y.append(label)\n",
        "\n",
        "# Conversion etiquetas a array\n",
        "y = np.array(y)\n",
        "\n",
        "print(f\"✅ Textos vectorizados: {len(X)} ejemplos\")\n"
      ]
    },
    {
      "cell_type": "markdown",
      "metadata": {
        "id": "YVKUPqavfcG9"
      },
      "source": [
        "# **BLOQUE 3: Padding + División Train/Test**"
      ]
    },
    {
      "cell_type": "code",
      "execution_count": 8,
      "metadata": {
        "colab": {
          "base_uri": "https://localhost:8080/"
        },
        "id": "b6qvANCzbW9m",
        "outputId": "638a6750-1fe2-4623-8d96-861b149a92ae"
      },
      "outputs": [
        {
          "output_type": "stream",
          "name": "stdout",
          "text": [
            "✅ Datos listos para la LSTM\n",
            "X_train shape: (400000, 15, 300)\n",
            "X_test shape:  (100000, 15, 300)\n"
          ]
        }
      ],
      "source": [
        "\n",
        "from sklearn.model_selection import train_test_split\n",
        "\n",
        "# Función de padding manual\n",
        "def prepare_sequences(list_of_vectors, max_len=None):\n",
        "    \"\"\"\n",
        "    Convierte una lista de listas de vectores en un array 3D con padding manual.\n",
        "    \"\"\"\n",
        "    vector_sequences = [np.array(seq) for seq in list_of_vectors]\n",
        "\n",
        "    if not vector_sequences:\n",
        "        return None\n",
        "\n",
        "    if max_len is None:\n",
        "        max_len = max(len(seq) for seq in vector_sequences)\n",
        "\n",
        "    padded = []\n",
        "    for seq in vector_sequences:\n",
        "        if len(seq) < max_len:\n",
        "            pad_width = ((0, max_len - len(seq)), (0, 0))  # (timesteps, vector_dim)\n",
        "            padded_seq = np.pad(seq, pad_width, mode='constant')\n",
        "        else:\n",
        "            padded_seq = seq[:max_len]\n",
        "        padded.append(padded_seq)\n",
        "\n",
        "    return np.array(padded)\n",
        "\n",
        "# Aplicacion de padding\n",
        "X_padded = prepare_sequences(X)\n",
        "\n",
        "# Division de entrenamiento y prueba\n",
        "X_train, X_test, y_train, y_test = train_test_split(X_padded, y, test_size=0.2, random_state=42)\n",
        "\n",
        "print(\"✅ Datos listos para la LSTM\")\n",
        "print(f\"X_train shape: {X_train.shape}\")\n",
        "print(f\"X_test shape:  {X_test.shape}\")\n"
      ]
    },
    {
      "cell_type": "markdown",
      "metadata": {
        "id": "PqRiJ24gf1Ex"
      },
      "source": [
        "# **BLOQUE 4: Definición y Entrenamiento**"
      ]
    },
    {
      "cell_type": "code",
      "execution_count": 9,
      "metadata": {
        "colab": {
          "base_uri": "https://localhost:8080/"
        },
        "id": "LspiRwTmf23n",
        "outputId": "4211fd5f-a85e-493d-cad2-fdf289c5029a"
      },
      "outputs": [
        {
          "output_type": "stream",
          "name": "stderr",
          "text": [
            "/usr/local/lib/python3.11/dist-packages/keras/src/layers/rnn/rnn.py:200: UserWarning: Do not pass an `input_shape`/`input_dim` argument to a layer. When using Sequential models, prefer using an `Input(shape)` object as the first layer in the model instead.\n",
            "  super().__init__(**kwargs)\n"
          ]
        },
        {
          "output_type": "stream",
          "name": "stdout",
          "text": [
            "Epoch 1/10\n",
            "\u001b[1m3125/3125\u001b[0m \u001b[32m━━━━━━━━━━━━━━━━━━━━\u001b[0m\u001b[37m\u001b[0m \u001b[1m22s\u001b[0m 6ms/step - accuracy: 0.9990 - loss: 0.0063 - val_accuracy: 1.0000 - val_loss: 1.0105e-06\n",
            "Epoch 2/10\n",
            "\u001b[1m3125/3125\u001b[0m \u001b[32m━━━━━━━━━━━━━━━━━━━━\u001b[0m\u001b[37m\u001b[0m \u001b[1m16s\u001b[0m 5ms/step - accuracy: 1.0000 - loss: 1.4266e-06 - val_accuracy: 1.0000 - val_loss: 1.5419e-07\n",
            "Epoch 3/10\n",
            "\u001b[1m3125/3125\u001b[0m \u001b[32m━━━━━━━━━━━━━━━━━━━━\u001b[0m\u001b[37m\u001b[0m \u001b[1m16s\u001b[0m 5ms/step - accuracy: 1.0000 - loss: 2.8049e-07 - val_accuracy: 1.0000 - val_loss: 2.9401e-08\n",
            "Epoch 4/10\n",
            "\u001b[1m3125/3125\u001b[0m \u001b[32m━━━━━━━━━━━━━━━━━━━━\u001b[0m\u001b[37m\u001b[0m \u001b[1m16s\u001b[0m 5ms/step - accuracy: 1.0000 - loss: 6.6652e-08 - val_accuracy: 1.0000 - val_loss: 5.9240e-09\n",
            "Epoch 5/10\n",
            "\u001b[1m3125/3125\u001b[0m \u001b[32m━━━━━━━━━━━━━━━━━━━━\u001b[0m\u001b[37m\u001b[0m \u001b[1m16s\u001b[0m 5ms/step - accuracy: 1.0000 - loss: 1.6833e-08 - val_accuracy: 1.0000 - val_loss: 1.3122e-09\n",
            "Epoch 6/10\n",
            "\u001b[1m3125/3125\u001b[0m \u001b[32m━━━━━━━━━━━━━━━━━━━━\u001b[0m\u001b[37m\u001b[0m \u001b[1m16s\u001b[0m 5ms/step - accuracy: 1.0000 - loss: 4.6944e-09 - val_accuracy: 1.0000 - val_loss: 3.4598e-10\n",
            "Epoch 7/10\n",
            "\u001b[1m3125/3125\u001b[0m \u001b[32m━━━━━━━━━━━━━━━━━━━━\u001b[0m\u001b[37m\u001b[0m \u001b[1m16s\u001b[0m 5ms/step - accuracy: 1.0000 - loss: 1.5810e-09 - val_accuracy: 1.0000 - val_loss: 1.2855e-10\n",
            "Epoch 8/10\n",
            "\u001b[1m3125/3125\u001b[0m \u001b[32m━━━━━━━━━━━━━━━━━━━━\u001b[0m\u001b[37m\u001b[0m \u001b[1m16s\u001b[0m 5ms/step - accuracy: 1.0000 - loss: 7.2593e-10 - val_accuracy: 1.0000 - val_loss: 6.8972e-11\n",
            "Epoch 9/10\n",
            "\u001b[1m3125/3125\u001b[0m \u001b[32m━━━━━━━━━━━━━━━━━━━━\u001b[0m\u001b[37m\u001b[0m \u001b[1m16s\u001b[0m 5ms/step - accuracy: 1.0000 - loss: 4.5334e-10 - val_accuracy: 1.0000 - val_loss: 4.4825e-11\n",
            "Epoch 10/10\n",
            "\u001b[1m3125/3125\u001b[0m \u001b[32m━━━━━━━━━━━━━━━━━━━━\u001b[0m\u001b[37m\u001b[0m \u001b[1m16s\u001b[0m 5ms/step - accuracy: 1.0000 - loss: 3.2828e-10 - val_accuracy: 1.0000 - val_loss: 3.2808e-11\n",
            "✅ Entrenamiento completado.\n"
          ]
        }
      ],
      "source": [
        "\n",
        "from tensorflow.keras.models import Sequential\n",
        "from tensorflow.keras.layers import LSTM, Dense, Dropout\n",
        "from tensorflow.keras.optimizers import Adam\n",
        "\n",
        "# Definicion del modelo\n",
        "model = Sequential()\n",
        "model.add(LSTM(128, input_shape=(X_train.shape[1], X_train.shape[2]), return_sequences=False))\n",
        "model.add(Dropout(0.4))\n",
        "model.add(Dense(1, activation='sigmoid'))  # salida binaria\n",
        "\n",
        "# Compilacion\n",
        "model.compile(\n",
        "    loss='binary_crossentropy',\n",
        "    optimizer=Adam(learning_rate=0.001),\n",
        "    metrics=['accuracy']\n",
        ")\n",
        "\n",
        "# Entrenamiento\n",
        "history = model.fit(\n",
        "    X_train, y_train,\n",
        "    epochs=10,\n",
        "    batch_size=128,\n",
        "    validation_data=(X_test, y_test),\n",
        "    verbose=1\n",
        ")\n",
        "\n",
        "modelo_LSTM1 = model\n",
        "print(\"✅ Entrenamiento completado.\")\n"
      ]
    },
    {
      "cell_type": "markdown",
      "metadata": {
        "id": "-_AzLX5LgJ8T"
      },
      "source": [
        "# **BLOQUE 5: Gráficas de Precisión y Pérdida**"
      ]
    },
    {
      "cell_type": "code",
      "execution_count": 10,
      "metadata": {
        "colab": {
          "base_uri": "https://localhost:8080/",
          "height": 958
        },
        "id": "-61sSIfwgLhc",
        "outputId": "7bf167d0-6247-410b-db2f-9348eb24475f"
      },
      "outputs": [
        {
          "output_type": "display_data",
          "data": {
            "text/plain": [
              "<Figure size 1000x500 with 1 Axes>"
            ],
            "image/png": "[encoded data removed]"
          },
          "metadata": {}
        },
        {
          "output_type": "display_data",
          "data": {
            "text/plain": [
              "<Figure size 1000x500 with 1 Axes>"
            ],
            "image/png": "[encoded data removed]"
          },
          "metadata": {}
        }
      ],
      "source": [
        "\n",
        "# Extraer historia\n",
        "acc = history.history['accuracy']\n",
        "val_acc = history.history['val_accuracy']\n",
        "loss = history.history['loss']\n",
        "val_loss = history.history['val_loss']\n",
        "\n",
        "epochs_range = range(1, len(acc) + 1)\n",
        "\n",
        "# Gráfica de precisión\n",
        "plt.figure(figsize=(10, 5))\n",
        "plt.plot(epochs_range, acc, label='Training Accuracy')\n",
        "plt.plot(epochs_range, val_acc, label='Validation Accuracy')\n",
        "plt.xlabel('Epoch')\n",
        "plt.ylabel('Accuracy')\n",
        "plt.legend()\n",
        "plt.title('Evolución de Accuracy')\n",
        "plt.grid(True)\n",
        "plt.show()\n",
        "\n",
        "# Gráfica de pérdida\n",
        "plt.figure(figsize=(10, 5))\n",
        "plt.plot(epochs_range, loss, label='Training Loss')\n",
        "plt.plot(epochs_range, val_loss, label='Validation Loss')\n",
        "plt.xlabel('Epoch')\n",
        "plt.ylabel('Loss')\n",
        "plt.legend()\n",
        "plt.title('Evolución de Loss')\n",
        "plt.grid(True)\n",
        "plt.show()\n"
      ]
    },
    {
      "cell_type": "markdown",
      "metadata": {
        "id": "W-UPEpt9g0gF"
      },
      "source": [
        "# **BLOQUE 6: Evaluación Final y Guardado del Modelo**"
      ]
    },
    {
      "cell_type": "code",
      "execution_count": 11,
      "metadata": {
        "colab": {
          "base_uri": "https://localhost:8080/"
        },
        "id": "S17mZAMAg2Nc",
        "outputId": "289c9424-45be-4276-e8cf-61b8ff68e7cf"
      },
      "outputs": [
        {
          "output_type": "stream",
          "name": "stdout",
          "text": [
            "\u001b[1m3125/3125\u001b[0m \u001b[32m━━━━━━━━━━━━━━━━━━━━\u001b[0m\u001b[37m\u001b[0m \u001b[1m8s\u001b[0m 3ms/step - accuracy: 1.0000 - loss: 3.2762e-11\n",
            "✅ Pérdida final en Test: 0.0000\n",
            "✅ Precisión final en Test: 1.0000\n"
          ]
        }
      ],
      "source": [
        "# Evaluacion del set de test\n",
        "test_loss, test_accuracy = model.evaluate(X_test, y_test, verbose=1)\n",
        "\n",
        "print(f\"✅ Pérdida final en Test: {test_loss:.4f}\")\n",
        "print(f\"✅ Precisión final en Test: {test_accuracy:.4f}\")\n"
      ]
    },
    {
      "cell_type": "code",
      "execution_count": 12,
      "metadata": {
        "colab": {
          "base_uri": "https://localhost:8080/"
        },
        "id": "WOeZa5XQg7_i",
        "outputId": "1a813e7d-f4c6-495a-b84a-df13388d6fa9"
      },
      "outputs": [
        {
          "output_type": "stream",
          "name": "stderr",
          "text": [
            "WARNING:absl:You are saving your model as an HDF5 file via `model.save()` or `keras.saving.save_model(model)`. This file format is considered legacy. We recommend using instead the native Keras format, e.g. `model.save('my_model.keras')` or `keras.saving.save_model(model, 'my_model.keras')`. \n"
          ]
        },
        {
          "output_type": "stream",
          "name": "stdout",
          "text": [
            "✅ Modelo guardado exitosamente en /content/lstm_word2vec_model.h5\n"
          ]
        }
      ],
      "source": [
        "# Guardado del modelo completo (arquitectura + pesos)\n",
        "model.save('/content/lstm_word2vec_model.h5')\n",
        "\n",
        "print(\"✅ Modelo guardado exitosamente en /content/lstm_word2vec_model.h5\")\n"
      ]
    },
    {
      "cell_type": "markdown",
      "metadata": {
        "id": "kJWQUPGMOT4l"
      },
      "source": [
        "# **Prueba 2: Dataset de 4 clases, todas semánticamente relacionadas pero distintas**"
      ]
    },
    {
      "cell_type": "code",
      "execution_count": 13,
      "metadata": {
        "colab": {
          "base_uri": "https://localhost:8080/"
        },
        "id": "7vpWAnvqONhz",
        "outputId": "e81179ec-45a0-4187-fe5d-9e17353526c2"
      },
      "outputs": [
        {
          "output_type": "stream",
          "name": "stdout",
          "text": [
            "✅ Dataset multicategoría generado: 20000 frases (4 clases)\n",
            "Ejemplo: car vehicle road train bus garage wheel life driver garage sound bus event vehicle garage -> 1\n"
          ]
        }
      ],
      "source": [
        "\n",
        "# Vocabularios por clase\n",
        "clase_0_palabras = [  # Realeza\n",
        "    \"king\", \"queen\", \"prince\", \"palace\", \"throne\", \"royal\", \"duke\", \"crown\", \"noble\", \"kingdom\"\n",
        "]\n",
        "clase_1_palabras = [  # Transporte\n",
        "    \"car\", \"bus\", \"train\", \"engine\", \"traffic\", \"driver\", \"vehicle\", \"road\", \"wheel\", \"garage\"\n",
        "]\n",
        "clase_2_palabras = [  # Ciudad\n",
        "    \"mayor\", \"building\", \"office\", \"square\", \"street\", \"city\", \"citizen\", \"tower\", \"apartment\", \"market\",\n",
        "    \"crosswalk\", \"trafficlight\", \"block\", \"road\", \"avenue\", \"bridge\", \"district\", \"metro\", \"busstop\", \"subway\",\n",
        "    \"skyscraper\", \"intersection\", \"alley\", \"sidewalk\", \"downtown\", \"neighborhood\", \"capital\", \"urban\", \"rural\", \"zone\",\n",
        "    \"construction\", \"skyline\", \"fountain\", \"museum\", \"park\", \"restaurant\", \"mall\", \"library\", \"university\", \"school\",\n",
        "    \"hospital\", \"police\", \"station\", \"firestation\", \"cemetery\", \"court\", \"cinema\", \"bank\", \"plaza\", \"highway\",\n",
        "    \"lane\", \"exit\", \"entrance\", \"sign\", \"direction\", \"roadwork\", \"parking\", \"garage\", \"residence\", \"residential\",\n",
        "    \"industrial\", \"commercial\", \"area\", \"buildingcode\", \"permit\", \"architecture\", \"renovation\", \"sculpture\", \"art\",\n",
        "    \"cafeteria\", \"supermarket\", \"store\", \"boutique\", \"stadium\", \"arena\", \"field\", \"track\", \"theater\", \"monument\",\n",
        "    \"heritage\", \"path\", \"trail\", \"zoning\", \"recreation\", \"eventhall\", \"convention\", \"auditorium\", \"government\", \"mayoral\",\n",
        "    \"assembly\", \"council\", \"election\", \"vote\", \"legislation\", \"governance\", \"toll\", \"bridgeway\", \"public\", \"service\"\n",
        "]\n",
        "\n",
        "clase_3_palabras = [  # Clima\n",
        "    \"sun\", \"rain\", \"snow\", \"storm\", \"cloud\", \"season\", \"cold\", \"hot\", \"wind\", \"weather\",\n",
        "    \"fog\", \"hail\", \"drizzle\", \"humidity\", \"temperature\", \"forecast\", \"breeze\", \"heatwave\", \"climate\", \"tornado\",\n",
        "    \"hurricane\", \"cyclone\", \"lightning\", \"thunder\", \"precipitation\", \"drought\", \"flood\", \"mist\", \"frost\", \"chill\",\n",
        "    \"freezing\", \"overcast\", \"clear\", \"sky\", \"gust\", \"pressure\", \"barometer\", \"dew\", \"air\", \"ozone\",\n",
        "    \"greenhouse\", \"warming\", \"atmosphere\", \"meteorology\", \"stormfront\", \"stormcloud\", \"raindrop\", \"sunshine\", \"sunbeam\", \"sunlight\",\n",
        "    \"snowflake\", \"snowstorm\", \"icicle\", \"cloudburst\", \"windchill\", \"coldfront\", \"hotfront\", \"nimbus\", \"cumulus\", \"stratus\",\n",
        "    \"cirrus\", \"vapor\", \"wet\", \"dry\", \"moderate\", \"mild\", \"severe\", \"extreme\", \"monsoon\", \"equator\",\n",
        "    \"polar\", \"tropic\", \"blizzard\", \"windstorm\", \"heat\", \"temperaturedrop\", \"surge\", \"thunderstorm\", \"downpour\", \"airmass\",\n",
        "    \"windgust\", \"airflow\", \"climatology\", \"weatherreport\", \"weatherstation\", \"gale\", \"stormwatch\", \"seasonal\", \"transition\", \"environment\",\n",
        "    \"skywatch\", \"thermal\", \"solstice\", \"equinox\", \"ultraviolet\", \"radiation\", \"forecasting\", \"weatherballoon\", \"anemometer\", \"windvane\"\n",
        "]\n",
        "\n",
        "# Palabras comunes (ruido compartido entre clases)\n",
        "palabras_comunes = [\n",
        "    \"day\", \"night\", \"life\", \"world\", \"people\", \"news\", \"sound\", \"history\", \"event\", \"change\"\n",
        "]\n",
        "\n",
        "# Función para generar frases con palabras comunes mezcladas\n",
        "def generar_frases_multiclase(palabras_clase, palabras_comunes, cantidad=5000, longitud=15):\n",
        "    frases = []\n",
        "    for _ in range(cantidad):\n",
        "        n_ruido = random.randint(2, 4)\n",
        "        n_clase = longitud - n_ruido\n",
        "        palabras_finales = random.choices(palabras_clase, k=n_clase) + random.choices(palabras_comunes, k=n_ruido)\n",
        "        random.shuffle(palabras_finales)\n",
        "        frase = \" \".join(palabras_finales)\n",
        "        frases.append(frase)\n",
        "    return frases\n",
        "\n",
        "# Generacion de frases por clase\n",
        "frases_0 = generar_frases_multiclase(clase_0_palabras, palabras_comunes)\n",
        "frases_1 = generar_frases_multiclase(clase_1_palabras, palabras_comunes)\n",
        "frases_2 = generar_frases_multiclase(clase_2_palabras, palabras_comunes)\n",
        "frases_3 = generar_frases_multiclase(clase_3_palabras, palabras_comunes)\n",
        "\n",
        "# Combinacion de frases y etiquetas\n",
        "texts = frases_0 + frases_1 + frases_2 + frases_3\n",
        "labels = [0]*len(frases_0) + [1]*len(frases_1) + [2]*len(frases_2) + [3]*len(frases_3)\n",
        "\n",
        "\n",
        "combined = list(zip(texts, labels))\n",
        "random.shuffle(combined)\n",
        "texts, labels = zip(*combined)\n",
        "\n",
        "print(f\"✅ Dataset multicategoría generado: {len(texts)} frases (4 clases)\")\n",
        "print(\"Ejemplo:\", texts[0], \"->\", labels[0])\n"
      ]
    },
    {
      "cell_type": "markdown",
      "metadata": {
        "id": "KLowJgqXOiG7"
      },
      "source": [
        "# **BLOQUE 2: Preprocesamiento y Vectorización para Clasificación Multiclase**"
      ]
    },
    {
      "cell_type": "code",
      "execution_count": 14,
      "metadata": {
        "colab": {
          "base_uri": "https://localhost:8080/"
        },
        "id": "hsNGwaiVOldL",
        "outputId": "e5984eae-58eb-4be4-b921-1b9873508f0d"
      },
      "outputs": [
        {
          "output_type": "stream",
          "name": "stdout",
          "text": [
            "✅ Textos vectorizados: 20000 ejemplos\n"
          ]
        }
      ],
      "source": [
        "# Función para limpieza y tokenizacion\n",
        "def preprocess_text(text):\n",
        "    text = re.sub(r'[^a-zA-Z\\s]', '', text)\n",
        "    text = text.lower()\n",
        "    tokens = word_tokenize(text)\n",
        "    tokens = [word for word in tokens if word not in stopwords.words('english')]\n",
        "    return tokens\n",
        "\n",
        "# Función para vectorizar una lista de tokens\n",
        "def vectorize_text(tokens, w2v_model, vector_size=300):\n",
        "    vectors = []\n",
        "    for word in tokens:\n",
        "        if word in w2v_model:\n",
        "            vectors.append(w2v_model[word])\n",
        "    return vectors\n",
        "\n",
        "# Preprocesamiento de todos los textos\n",
        "tokenized_texts = [preprocess_text(text) for text in texts]\n",
        "\n",
        "# Vectorizacion de todos los textos\n",
        "vectorized_texts = [vectorize_text(tokens, w2v_model) for tokens in tokenized_texts]\n",
        "\n",
        "# Filtro de ejemplos sin vectores\n",
        "X = []\n",
        "y = []\n",
        "for vecs, label in zip(vectorized_texts, labels):\n",
        "    if len(vecs) > 0:\n",
        "        X.append(vecs)\n",
        "        y.append(label)\n",
        "\n",
        "# Conversion etiquetas a array\n",
        "y = np.array(y)\n",
        "\n",
        "print(f\"✅ Textos vectorizados: {len(X)} ejemplos\")\n"
      ]
    },
    {
      "cell_type": "markdown",
      "metadata": {
        "id": "wkpf5flTOwjs"
      },
      "source": [
        "# **BLOQUE 3: Padding, One-Hot Encoding y Split**"
      ]
    },
    {
      "cell_type": "code",
      "execution_count": 15,
      "metadata": {
        "colab": {
          "base_uri": "https://localhost:8080/"
        },
        "id": "vpJHP7cUOz4V",
        "outputId": "8c50e2ee-b6b8-4f99-df0f-9e714502f225"
      },
      "outputs": [
        {
          "output_type": "stream",
          "name": "stdout",
          "text": [
            "✅ Datos listos para LSTM Multiclase\n",
            "X_train: (16000, 15, 300)\n",
            "y_train: (16000, 4)\n",
            "X_test:  (4000, 15, 300)\n",
            "y_test:  (4000, 4)\n"
          ]
        }
      ],
      "source": [
        "from tensorflow.keras.utils import to_categorical\n",
        "from sklearn.model_selection import train_test_split\n",
        "\n",
        "# Padding\n",
        "def prepare_sequences(list_of_vectors, max_len=None):\n",
        "    vector_sequences = [np.array(seq) for seq in list_of_vectors]\n",
        "    if not vector_sequences:\n",
        "        return None\n",
        "    if max_len is None:\n",
        "        max_len = max(len(seq) for seq in vector_sequences)\n",
        "    padded = []\n",
        "    for seq in vector_sequences:\n",
        "        if len(seq) < max_len:\n",
        "            pad_width = ((0, max_len - len(seq)), (0, 0))\n",
        "            padded_seq = np.pad(seq, pad_width, mode='constant')\n",
        "        else:\n",
        "            padded_seq = seq[:max_len]\n",
        "        padded.append(padded_seq)\n",
        "    return np.array(padded)\n",
        "\n",
        "# Aplicacion padding\n",
        "X_padded = prepare_sequences(X)\n",
        "\n",
        "# One-hot encode de etiquetas\n",
        "num_clases = len(set(y))\n",
        "y_encoded = to_categorical(y, num_classes=num_clases)\n",
        "\n",
        "# Split train/test\n",
        "X_train, X_test, y_train, y_test = train_test_split(X_padded, y_encoded, test_size=0.2, random_state=42)\n",
        "\n",
        "\n",
        "print(\"✅ Datos listos para LSTM Multiclase\")\n",
        "print(f\"X_train: {X_train.shape}\")\n",
        "print(f\"y_train: {y_train.shape}\")\n",
        "print(f\"X_test:  {X_test.shape}\")\n",
        "print(f\"y_test:  {y_test.shape}\")\n"
      ]
    },
    {
      "cell_type": "markdown",
      "metadata": {
        "id": "avzymcbQO9Iy"
      },
      "source": [
        "# **BLOQUE 4: Arquitectura LSTM para Clasificación Multiclase**"
      ]
    },
    {
      "cell_type": "code",
      "execution_count": 16,
      "metadata": {
        "colab": {
          "base_uri": "https://localhost:8080/"
        },
        "id": "S-6BuLolO_kJ",
        "outputId": "e348e59c-e213-4bd5-c93b-b9b9062cb025"
      },
      "outputs": [
        {
          "output_type": "stream",
          "name": "stdout",
          "text": [
            "Epoch 1/10\n",
            "\u001b[1m250/250\u001b[0m \u001b[32m━━━━━━━━━━━━━━━━━━━━\u001b[0m\u001b[37m\u001b[0m \u001b[1m3s\u001b[0m 6ms/step - accuracy: 0.9694 - loss: 0.1640 - val_accuracy: 1.0000 - val_loss: 1.9397e-04\n",
            "Epoch 2/10\n",
            "\u001b[1m250/250\u001b[0m \u001b[32m━━━━━━━━━━━━━━━━━━━━\u001b[0m\u001b[37m\u001b[0m \u001b[1m1s\u001b[0m 5ms/step - accuracy: 1.0000 - loss: 2.5931e-04 - val_accuracy: 1.0000 - val_loss: 5.4035e-05\n",
            "Epoch 3/10\n",
            "\u001b[1m250/250\u001b[0m \u001b[32m━━━━━━━━━━━━━━━━━━━━\u001b[0m\u001b[37m\u001b[0m \u001b[1m1s\u001b[0m 5ms/step - accuracy: 1.0000 - loss: 1.0201e-04 - val_accuracy: 1.0000 - val_loss: 2.6974e-05\n",
            "Epoch 4/10\n",
            "\u001b[1m250/250\u001b[0m \u001b[32m━━━━━━━━━━━━━━━━━━━━\u001b[0m\u001b[37m\u001b[0m \u001b[1m1s\u001b[0m 5ms/step - accuracy: 1.0000 - loss: 5.8965e-05 - val_accuracy: 1.0000 - val_loss: 1.6054e-05\n",
            "Epoch 5/10\n",
            "\u001b[1m250/250\u001b[0m \u001b[32m━━━━━━━━━━━━━━━━━━━━\u001b[0m\u001b[37m\u001b[0m \u001b[1m1s\u001b[0m 5ms/step - accuracy: 1.0000 - loss: 3.8877e-05 - val_accuracy: 1.0000 - val_loss: 1.0587e-05\n",
            "Epoch 6/10\n",
            "\u001b[1m250/250\u001b[0m \u001b[32m━━━━━━━━━━━━━━━━━━━━\u001b[0m\u001b[37m\u001b[0m \u001b[1m1s\u001b[0m 5ms/step - accuracy: 1.0000 - loss: 2.7015e-05 - val_accuracy: 1.0000 - val_loss: 7.4322e-06\n",
            "Epoch 7/10\n",
            "\u001b[1m250/250\u001b[0m \u001b[32m━━━━━━━━━━━━━━━━━━━━\u001b[0m\u001b[37m\u001b[0m \u001b[1m1s\u001b[0m 5ms/step - accuracy: 1.0000 - loss: 2.1163e-05 - val_accuracy: 1.0000 - val_loss: 5.4627e-06\n",
            "Epoch 8/10\n",
            "\u001b[1m250/250\u001b[0m \u001b[32m━━━━━━━━━━━━━━━━━━━━\u001b[0m\u001b[37m\u001b[0m \u001b[1m1s\u001b[0m 5ms/step - accuracy: 1.0000 - loss: 1.5773e-05 - val_accuracy: 1.0000 - val_loss: 4.1613e-06\n",
            "Epoch 9/10\n",
            "\u001b[1m250/250\u001b[0m \u001b[32m━━━━━━━━━━━━━━━━━━━━\u001b[0m\u001b[37m\u001b[0m \u001b[1m1s\u001b[0m 5ms/step - accuracy: 1.0000 - loss: 1.2345e-05 - val_accuracy: 1.0000 - val_loss: 3.2286e-06\n",
            "Epoch 10/10\n",
            "\u001b[1m250/250\u001b[0m \u001b[32m━━━━━━━━━━━━━━━━━━━━\u001b[0m\u001b[37m\u001b[0m \u001b[1m1s\u001b[0m 5ms/step - accuracy: 1.0000 - loss: 1.0085e-05 - val_accuracy: 1.0000 - val_loss: 2.5678e-06\n",
            "✅ Entrenamiento completado.\n"
          ]
        }
      ],
      "source": [
        "from tensorflow.keras.models import Sequential\n",
        "from tensorflow.keras.layers import LSTM, Dense, Dropout\n",
        "from tensorflow.keras.optimizers import Adam\n",
        "\n",
        "# Definicion del modelo\n",
        "model = Sequential()\n",
        "model.add(LSTM(128, input_shape=(X_train.shape[1], X_train.shape[2]), return_sequences=False))\n",
        "model.add(Dropout(0.4))\n",
        "model.add(Dense(num_clases, activation='softmax'))  # salida multiclase\n",
        "\n",
        "# Compilacion\n",
        "model.compile(\n",
        "    loss='categorical_crossentropy',  # para multiclase\n",
        "    optimizer=Adam(learning_rate=0.001),\n",
        "    metrics=['accuracy']\n",
        ")\n",
        "\n",
        "# Entrenamiento\n",
        "history = model.fit(\n",
        "    X_train, y_train,\n",
        "    epochs=10,\n",
        "    batch_size=64,\n",
        "    validation_data=(X_test, y_test),\n",
        "    verbose=1\n",
        ")\n",
        "\n",
        "modelo_final = model\n",
        "print(\"✅ Entrenamiento completado.\")\n"
      ]
    },
    {
      "cell_type": "markdown",
      "metadata": {
        "id": "gQoAy5KrPP7r"
      },
      "source": [
        "# **BLOQUE 5: Gráficas de Precisión y Pérdida + Evaluación Final**"
      ]
    },
    {
      "cell_type": "code",
      "execution_count": 17,
      "metadata": {
        "colab": {
          "base_uri": "https://localhost:8080/",
          "height": 958
        },
        "id": "68AIxU59PRae",
        "outputId": "23bb9855-cbc4-48bd-85a9-8d419ca76da1"
      },
      "outputs": [
        {
          "output_type": "display_data",
          "data": {
            "text/plain": [
              "<Figure size 1000x500 with 1 Axes>"
            ],
            "image/png": "[encoded data removed]"
          },
          "metadata": {}
        },
        {
          "output_type": "display_data",
          "data": {
            "text/plain": [
              "<Figure size 1000x500 with 1 Axes>"
            ],
            "image/png": "[encoded data removed]"
          },
          "metadata": {}
        }
      ],
      "source": [
        "\n",
        "# Gráficas de accuracy\n",
        "plt.figure(figsize=(10, 5))\n",
        "plt.plot(history.history['accuracy'], label='Training Accuracy')\n",
        "plt.plot(history.history['val_accuracy'], label='Validation Accuracy')\n",
        "plt.title('Evolución de Accuracy')\n",
        "plt.xlabel('Epoch')\n",
        "plt.ylabel('Accuracy')\n",
        "plt.legend()\n",
        "plt.grid(True)\n",
        "plt.show()\n",
        "\n",
        "# Gráficas de loss\n",
        "plt.figure(figsize=(10, 5))\n",
        "plt.plot(history.history['loss'], label='Training Loss')\n",
        "plt.plot(history.history['val_loss'], label='Validation Loss')\n",
        "plt.title('Evolución de Loss')\n",
        "plt.xlabel('Epoch')\n",
        "plt.ylabel('Loss')\n",
        "plt.legend()\n",
        "plt.grid(True)\n",
        "plt.show()\n"
      ]
    },
    {
      "cell_type": "code",
      "execution_count": 18,
      "metadata": {
        "colab": {
          "base_uri": "https://localhost:8080/"
        },
        "id": "ovbpaYtpPTfv",
        "outputId": "e5c05aac-95ae-4383-c906-2ea916be8257"
      },
      "outputs": [
        {
          "output_type": "stream",
          "name": "stdout",
          "text": [
            "\u001b[1m125/125\u001b[0m \u001b[32m━━━━━━━━━━━━━━━━━━━━\u001b[0m\u001b[37m\u001b[0m \u001b[1m0s\u001b[0m 3ms/step - accuracy: 1.0000 - loss: 2.5633e-06\n",
            "✅ Pérdida final en Test: 0.0000\n",
            "✅ Precisión final en Test: 1.0000\n"
          ]
        }
      ],
      "source": [
        "# Evaluacion del set de test\n",
        "test_loss, test_accuracy = model.evaluate(X_test, y_test, verbose=1)\n",
        "\n",
        "print(f\"✅ Pérdida final en Test: {test_loss:.4f}\")\n",
        "print(f\"✅ Precisión final en Test: {test_accuracy:.4f}\")\n"
      ]
    },
    {
      "cell_type": "code",
      "execution_count": 19,
      "metadata": {
        "id": "xwGIme4it1AH"
      },
      "outputs": [],
      "source": [
        "def predecir_texto(texto, modelo, w2v_model, max_len):\n",
        "    \"\"\"\n",
        "    Preprocesa el texto, lo vectoriza, aplica padding y predice con el modelo entrenado.\n",
        "    \"\"\"\n",
        "    # Preprocesamiento\n",
        "    tokens = preprocess_text(texto)\n",
        "\n",
        "    # Vectorizacion\n",
        "    vectorized = vectorize_text(tokens, w2v_model)\n",
        "    if len(vectorized) == 0:\n",
        "        return \"❌ Ninguna palabra reconocida en Word2Vec.\"\n",
        "\n",
        "    # Padding manual\n",
        "    padded = prepare_sequences([vectorized], max_len=max_len)\n",
        "\n",
        "    # Prediccion\n",
        "    pred = modelo.predict(padded)\n",
        "    clase_predicha = np.argmax(pred)\n",
        "    probabilidad = pred[0][clase_predicha]\n",
        "\n",
        "    # Etiquetas opcionales\n",
        "    etiquetas = {\n",
        "        0: \"Realeza\",\n",
        "        1: \"Transporte\",\n",
        "        2: \"Ciudad\",\n",
        "        3: \"Tiempo/Clima\"\n",
        "    }\n",
        "\n",
        "    # Mostrar resultado\n",
        "    return f\"✅ Predicción: Clase {clase_predicha} ({etiquetas[clase_predicha]}) con {probabilidad:.2%} de confianza\"\n"
      ]
    },
    {
      "cell_type": "code",
      "execution_count": 20,
      "metadata": {
        "id": "moNRGK7C-y8P"
      },
      "outputs": [],
      "source": [
        "def prueba_modelos_interactiva():\n",
        "    \"\"\"\n",
        "    Permite al usuario ingresar una frase y ver la predicción de los tres modelos entrenados.\n",
        "    \"\"\"\n",
        "    print(\"✨ Prueba interactiva: Comparación entre modelos\")\n",
        "    print(\"📝 Escribí una frase en inglés para clasificar su emoción o categoría (escribí 'salir' para finalizar)\\n\")\n",
        "\n",
        "    while True:\n",
        "        texto_usuario = input(\"💬 Ingresá una frase: \")\n",
        "        if texto_usuario.lower() == \"salir\":\n",
        "            print(\"👋 Prueba finalizada.\")\n",
        "            break\n",
        "\n",
        "        print(\"\\n🔵 Predicción modelo clásico:\")\n",
        "        print(predecir_texto(texto_usuario, modelo_LSTM1, w2v_model, max_len=X_train.shape[1]))\n",
        "\n",
        "        print(\"\\n🟣 Predicción modelo LSTM ajustado:\")\n",
        "        print(predecir_texto(texto_usuario,modelo_final, w2v_model, max_len=X_train.shape[1]))\n",
        "\n",
        "        print(\"-\" * 60)\n"
      ]
    },
    {
      "cell_type": "code",
      "execution_count": null,
      "metadata": {
        "colab": {
          "background_save": true,
          "base_uri": "https://localhost:8080/"
        },
        "id": "DiEeI0zay-KL",
        "outputId": "15df1ddb-9dad-4af2-96c3-50f9bf3e5fac"
      },
      "outputs": [
        {
          "output_type": "stream",
          "name": "stdout",
          "text": [
            "✨ Prueba interactiva: Comparación entre modelos\n",
            "📝 Escribí una frase en inglés para clasificar su emoción o categoría (escribí 'salir' para finalizar)\n",
            "\n",
            "💬 Ingresá una frase: The weather today is pretty sunny and clear\n",
            "\n",
            "🔵 Predicción modelo clásico:\n",
            "\u001b[1m1/1\u001b[0m \u001b[32m━━━━━━━━━━━━━━━━━━━━\u001b[0m\u001b[37m\u001b[0m \u001b[1m0s\u001b[0m 140ms/step\n",
            "✅ Predicción: Clase 0 (Realeza) con 0.00% de confianza\n",
            "\n",
            "🟣 Predicción modelo LSTM ajustado:\n",
            "\u001b[1m1/1\u001b[0m \u001b[32m━━━━━━━━━━━━━━━━━━━━\u001b[0m\u001b[37m\u001b[0m \u001b[1m0s\u001b[0m 124ms/step\n",
            "✅ Predicción: Clase 3 (Tiempo/Clima) con 100.00% de confianza\n",
            "------------------------------------------------------------\n",
            "💬 Ingresá una frase: My car is not working as well as its engine\n",
            "\n",
            "🔵 Predicción modelo clásico:\n",
            "\u001b[1m1/1\u001b[0m \u001b[32m━━━━━━━━━━━━━━━━━━━━\u001b[0m\u001b[37m\u001b[0m \u001b[1m0s\u001b[0m 35ms/step\n",
            "✅ Predicción: Clase 0 (Realeza) con 0.00% de confianza\n",
            "\n",
            "🟣 Predicción modelo LSTM ajustado:\n",
            "\u001b[1m1/1\u001b[0m \u001b[32m━━━━━━━━━━━━━━━━━━━━\u001b[0m\u001b[37m\u001b[0m \u001b[1m0s\u001b[0m 34ms/step\n",
            "✅ Predicción: Clase 1 (Transporte) con 99.89% de confianza\n",
            "------------------------------------------------------------\n",
            "💬 Ingresá una frase: My king is ridden the horse instead of the carriage\n",
            "\n",
            "🔵 Predicción modelo clásico:\n",
            "\u001b[1m1/1\u001b[0m \u001b[32m━━━━━━━━━━━━━━━━━━━━\u001b[0m\u001b[37m\u001b[0m \u001b[1m0s\u001b[0m 36ms/step\n",
            "✅ Predicción: Clase 0 (Realeza) con 100.00% de confianza\n",
            "\n",
            "🟣 Predicción modelo LSTM ajustado:\n",
            "\u001b[1m1/1\u001b[0m \u001b[32m━━━━━━━━━━━━━━━━━━━━\u001b[0m\u001b[37m\u001b[0m \u001b[1m0s\u001b[0m 34ms/step\n",
            "✅ Predicción: Clase 0 (Realeza) con 99.98% de confianza\n",
            "------------------------------------------------------------\n",
            "💬 Ingresá una frase: My city is lovely and crowded\n",
            "\n",
            "🔵 Predicción modelo clásico:\n",
            "\u001b[1m1/1\u001b[0m \u001b[32m━━━━━━━━━━━━━━━━━━━━\u001b[0m\u001b[37m\u001b[0m \u001b[1m0s\u001b[0m 35ms/step\n",
            "✅ Predicción: Clase 0 (Realeza) con 98.56% de confianza\n",
            "\n",
            "🟣 Predicción modelo LSTM ajustado:\n",
            "\u001b[1m1/1\u001b[0m \u001b[32m━━━━━━━━━━━━━━━━━━━━\u001b[0m\u001b[37m\u001b[0m \u001b[1m0s\u001b[0m 34ms/step\n",
            "✅ Predicción: Clase 2 (Ciudad) con 99.92% de confianza\n",
            "------------------------------------------------------------\n"
          ]
        }
      ],
      "source": [
        "prueba_modelos_interactiva()\n"
      ]
    }
  ],
  "metadata": {
    "accelerator": "GPU",
    "colab": {
      "gpuType": "A100",
      "machine_shape": "hm",
      "provenance": []
    },
    "kernelspec": {
      "display_name": "Python 3",
      "name": "python3"
    },
    "language_info": {
      "name": "python"
    }
  },
  "nbformat": 4,
  "nbformat_minor": 0
}