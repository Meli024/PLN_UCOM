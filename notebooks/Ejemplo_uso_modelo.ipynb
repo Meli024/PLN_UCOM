{
  "cells": [
    {
      "cell_type": "markdown",
      "metadata": {
        "id": "qZVLReL20_fW"
      },
      "source": [
        "# 📘 Ejemplo de uso e interpretación del modelo LSTM + Word2Vec"
      ],
      "id": "qZVLReL20_fW"
    },
    {
      "cell_type": "markdown",
      "source": [
        "# **1. Definición de librerias e instalaciones en general**"
      ],
      "metadata": {
        "id": "LE378FO9fxVV"
      },
      "id": "LE378FO9fxVV"
    },
    {
      "cell_type": "markdown",
      "source": [
        "En esta sección se asegura la instalación de gensim, una librería esencial para trabajar con modelos Word2Vec. Aunque puede generar advertencias por conflictos de dependencias, la instalación finaliza correctamente para los fines del proyecto. A continuación, se importan las librerías necesarias para el uso e interpretación del modelo preentrenado: numpy para operaciones matriciales, tensorflow para cargar el modelo LSTM, gensim para trabajar con los vectores Word2Vec, y load_model desde Keras para cargar los modelos .h5"
      ],
      "metadata": {
        "id": "z0XTAEsZljI3"
      },
      "id": "z0XTAEsZljI3"
    },
    {
      "cell_type": "code",
      "source": [
        "!pip install gensim"
      ],
      "metadata": {
        "colab": {
          "base_uri": "https://localhost:8080/"
        },
        "id": "dpUPmiD2140V",
        "outputId": "b4df1139-b857-4389-9650-9e67ce78259a"
      },
      "id": "dpUPmiD2140V",
      "execution_count": 1,
      "outputs": [
        {
          "output_type": "stream",
          "name": "stdout",
          "text": [
            "Collecting gensim\n",
            "  Downloading gensim-4.3.3-cp311-cp311-manylinux_2_17_x86_64.manylinux2014_x86_64.whl.metadata (8.1 kB)\n",
            "Collecting numpy<2.0,>=1.18.5 (from gensim)\n",
            "  Downloading numpy-1.26.4-cp311-cp311-manylinux_2_17_x86_64.manylinux2014_x86_64.whl.metadata (61 kB)\n",
            "\u001b[2K     \u001b[90m━━━━━━━━━━━━━━━━━━━━━━━━━━━━━━━━━━━━━━━━\u001b[0m \u001b[32m61.0/61.0 kB\u001b[0m \u001b[31m1.8 MB/s\u001b[0m eta \u001b[36m0:00:00\u001b[0m\n",
            "\u001b[?25hCollecting scipy<1.14.0,>=1.7.0 (from gensim)\n",
            "  Downloading scipy-1.13.1-cp311-cp311-manylinux_2_17_x86_64.manylinux2014_x86_64.whl.metadata (60 kB)\n",
            "\u001b[2K     \u001b[90m━━━━━━━━━━━━━━━━━━━━━━━━━━━━━━━━━━━━━━━━\u001b[0m \u001b[32m60.6/60.6 kB\u001b[0m \u001b[31m2.6 MB/s\u001b[0m eta \u001b[36m0:00:00\u001b[0m\n",
            "\u001b[?25hRequirement already satisfied: smart-open>=1.8.1 in /usr/local/lib/python3.11/dist-packages (from gensim) (7.1.0)\n",
            "Requirement already satisfied: wrapt in /usr/local/lib/python3.11/dist-packages (from smart-open>=1.8.1->gensim) (1.17.2)\n",
            "Downloading gensim-4.3.3-cp311-cp311-manylinux_2_17_x86_64.manylinux2014_x86_64.whl (26.7 MB)\n",
            "\u001b[2K   \u001b[90m━━━━━━━━━━━━━━━━━━━━━━━━━━━━━━━━━━━━━━━━\u001b[0m \u001b[32m26.7/26.7 MB\u001b[0m \u001b[31m44.0 MB/s\u001b[0m eta \u001b[36m0:00:00\u001b[0m\n",
            "\u001b[?25hDownloading numpy-1.26.4-cp311-cp311-manylinux_2_17_x86_64.manylinux2014_x86_64.whl (18.3 MB)\n",
            "\u001b[2K   \u001b[90m━━━━━━━━━━━━━━━━━━━━━━━━━━━━━━━━━━━━━━━━\u001b[0m \u001b[32m18.3/18.3 MB\u001b[0m \u001b[31m76.4 MB/s\u001b[0m eta \u001b[36m0:00:00\u001b[0m\n",
            "\u001b[?25hDownloading scipy-1.13.1-cp311-cp311-manylinux_2_17_x86_64.manylinux2014_x86_64.whl (38.6 MB)\n",
            "\u001b[2K   \u001b[90m━━━━━━━━━━━━━━━━━━━━━━━━━━━━━━━━━━━━━━━━\u001b[0m \u001b[32m38.6/38.6 MB\u001b[0m \u001b[31m58.5 MB/s\u001b[0m eta \u001b[36m0:00:00\u001b[0m\n",
            "\u001b[?25hInstalling collected packages: numpy, scipy, gensim\n",
            "  Attempting uninstall: numpy\n",
            "    Found existing installation: numpy 2.0.2\n",
            "    Uninstalling numpy-2.0.2:\n",
            "      Successfully uninstalled numpy-2.0.2\n",
            "  Attempting uninstall: scipy\n",
            "    Found existing installation: scipy 1.15.2\n",
            "    Uninstalling scipy-1.15.2:\n",
            "      Successfully uninstalled scipy-1.15.2\n",
            "\u001b[31mERROR: pip's dependency resolver does not currently take into account all the packages that are installed. This behaviour is the source of the following dependency conflicts.\n",
            "thinc 8.3.6 requires numpy<3.0.0,>=2.0.0, but you have numpy 1.26.4 which is incompatible.\u001b[0m\u001b[31m\n",
            "\u001b[0mSuccessfully installed gensim-4.3.3 numpy-1.26.4 scipy-1.13.1\n"
          ]
        }
      ]
    },
    {
      "cell_type": "code",
      "execution_count": 1,
      "metadata": {
        "id": "F2WTbr9D0_fc"
      },
      "outputs": [],
      "source": [
        "# Cargar librerías\n",
        "import numpy as np\n",
        "import tensorflow as tf\n",
        "from gensim.models import KeyedVectors\n",
        "from tensorflow.keras.models import load_model"
      ],
      "id": "F2WTbr9D0_fc"
    },
    {
      "cell_type": "markdown",
      "source": [
        "# **2. Montaje, carga de modelos en memoria**"
      ],
      "metadata": {
        "id": "r8b4bpbzhagQ"
      },
      "id": "r8b4bpbzhagQ"
    },
    {
      "cell_type": "code",
      "source": [
        "from google.colab import drive\n",
        "drive.mount('/content/drive')\n"
      ],
      "metadata": {
        "colab": {
          "base_uri": "https://localhost:8080/"
        },
        "id": "wPxjKzvc69aj",
        "outputId": "83084746-5627-4268-d0c0-96e62352ca38"
      },
      "id": "wPxjKzvc69aj",
      "execution_count": 2,
      "outputs": [
        {
          "output_type": "stream",
          "name": "stdout",
          "text": [
            "Mounted at /content/drive\n"
          ]
        }
      ]
    },
    {
      "cell_type": "code",
      "source": [
        "# Subir ambos modelos desde tu PC\n",
        "from google.colab import files\n",
        "uploaded = files.upload()  # Ejecutá esto y subí los dos archivos .h5\n",
        "\n",
        "# Cargar ambos modelos\n",
        "from tensorflow.keras.models import load_model\n",
        "\n",
        "modelo_binario = load_model('lstm_word2vec_model.h5')\n",
        "modelo_multiclase = load_model('lstm_word2vec_model_multiclase.h5')\n",
        "\n",
        "print(\"✅ Modelos cargados correctamente.\")\n"
      ],
      "metadata": {
        "colab": {
          "base_uri": "https://localhost:8080/",
          "height": 158
        },
        "id": "lROtF80-Cw5A",
        "outputId": "54862dd1-7394-4e68-f7c5-d4b8ebe89bb4"
      },
      "id": "lROtF80-Cw5A",
      "execution_count": 3,
      "outputs": [
        {
          "output_type": "display_data",
          "data": {
            "text/plain": [
              "<IPython.core.display.HTML object>"
            ],
            "text/html": [
              "\n",
              "     <input type=\"file\" id=\"files-c36d3353-a7f3-41a9-b280-0b133aa9eb1a\" name=\"files[]\" multiple disabled\n",
              "        style=\"border:none\" />\n",
              "     <output id=\"result-c36d3353-a7f3-41a9-b280-0b133aa9eb1a\">\n",
              "      Upload widget is only available when the cell has been executed in the\n",
              "      current browser session. Please rerun this cell to enable.\n",
              "      </output>\n",
              "      <script>// Copyright 2017 Google LLC\n",
              "//\n",
              "// Licensed under the Apache License, Version 2.0 (the \"License\");\n",
              "// you may not use this file except in compliance with the License.\n",
              "// You may obtain a copy of the License at\n",
              "//\n",
              "//      http://www.apache.org/licenses/LICENSE-2.0\n",
              "//\n",
              "// Unless required by applicable law or agreed to in writing, software\n",
              "// distributed under the License is distributed on an \"AS IS\" BASIS,\n",
              "// WITHOUT WARRANTIES OR CONDITIONS OF ANY KIND, either express or implied.\n",
              "// See the License for the specific language governing permissions and\n",
              "// limitations under the License.\n",
              "\n",
              "/**\n",
              " * @fileoverview Helpers for google.colab Python module.\n",
              " */\n",
              "(function(scope) {\n",
              "function span(text, styleAttributes = {}) {\n",
              "  const element = document.createElement('span');\n",
              "  element.textContent = text;\n",
              "  for (const key of Object.keys(styleAttributes)) {\n",
              "    element.style[key] = styleAttributes[key];\n",
              "  }\n",
              "  return element;\n",
              "}\n",
              "\n",
              "// Max number of bytes which will be uploaded at a time.\n",
              "const MAX_PAYLOAD_SIZE = 100 * 1024;\n",
              "\n",
              "function _uploadFiles(inputId, outputId) {\n",
              "  const steps = uploadFilesStep(inputId, outputId);\n",
              "  const outputElement = document.getElementById(outputId);\n",
              "  // Cache steps on the outputElement to make it available for the next call\n",
              "  // to uploadFilesContinue from Python.\n",
              "  outputElement.steps = steps;\n",
              "\n",
              "  return _uploadFilesContinue(outputId);\n",
              "}\n",
              "\n",
              "// This is roughly an async generator (not supported in the browser yet),\n",
              "// where there are multiple asynchronous steps and the Python side is going\n",
              "// to poll for completion of each step.\n",
              "// This uses a Promise to block the python side on completion of each step,\n",
              "// then passes the result of the previous step as the input to the next step.\n",
              "function _uploadFilesContinue(outputId) {\n",
              "  const outputElement = document.getElementById(outputId);\n",
              "  const steps = outputElement.steps;\n",
              "\n",
              "  const next = steps.next(outputElement.lastPromiseValue);\n",
              "  return Promise.resolve(next.value.promise).then((value) => {\n",
              "    // Cache the last promise value to make it available to the next\n",
              "    // step of the generator.\n",
              "    outputElement.lastPromiseValue = value;\n",
              "    return next.value.response;\n",
              "  });\n",
              "}\n",
              "\n",
              "/**\n",
              " * Generator function which is called between each async step of the upload\n",
              " * process.\n",
              " * @param {string} inputId Element ID of the input file picker element.\n",
              " * @param {string} outputId Element ID of the output display.\n",
              " * @return {!Iterable<!Object>} Iterable of next steps.\n",
              " */\n",
              "function* uploadFilesStep(inputId, outputId) {\n",
              "  const inputElement = document.getElementById(inputId);\n",
              "  inputElement.disabled = false;\n",
              "\n",
              "  const outputElement = document.getElementById(outputId);\n",
              "  outputElement.innerHTML = '';\n",
              "\n",
              "  const pickedPromise = new Promise((resolve) => {\n",
              "    inputElement.addEventListener('change', (e) => {\n",
              "      resolve(e.target.files);\n",
              "    });\n",
              "  });\n",
              "\n",
              "  const cancel = document.createElement('button');\n",
              "  inputElement.parentElement.appendChild(cancel);\n",
              "  cancel.textContent = 'Cancel upload';\n",
              "  const cancelPromise = new Promise((resolve) => {\n",
              "    cancel.onclick = () => {\n",
              "      resolve(null);\n",
              "    };\n",
              "  });\n",
              "\n",
              "  // Wait for the user to pick the files.\n",
              "  const files = yield {\n",
              "    promise: Promise.race([pickedPromise, cancelPromise]),\n",
              "    response: {\n",
              "      action: 'starting',\n",
              "    }\n",
              "  };\n",
              "\n",
              "  cancel.remove();\n",
              "\n",
              "  // Disable the input element since further picks are not allowed.\n",
              "  inputElement.disabled = true;\n",
              "\n",
              "  if (!files) {\n",
              "    return {\n",
              "      response: {\n",
              "        action: 'complete',\n",
              "      }\n",
              "    };\n",
              "  }\n",
              "\n",
              "  for (const file of files) {\n",
              "    const li = document.createElement('li');\n",
              "    li.append(span(file.name, {fontWeight: 'bold'}));\n",
              "    li.append(span(\n",
              "        `(${file.type || 'n/a'}) - ${file.size} bytes, ` +\n",
              "        `last modified: ${\n",
              "            file.lastModifiedDate ? file.lastModifiedDate.toLocaleDateString() :\n",
              "                                    'n/a'} - `));\n",
              "    const percent = span('0% done');\n",
              "    li.appendChild(percent);\n",
              "\n",
              "    outputElement.appendChild(li);\n",
              "\n",
              "    const fileDataPromise = new Promise((resolve) => {\n",
              "      const reader = new FileReader();\n",
              "      reader.onload = (e) => {\n",
              "        resolve(e.target.result);\n",
              "      };\n",
              "      reader.readAsArrayBuffer(file);\n",
              "    });\n",
              "    // Wait for the data to be ready.\n",
              "    let fileData = yield {\n",
              "      promise: fileDataPromise,\n",
              "      response: {\n",
              "        action: 'continue',\n",
              "      }\n",
              "    };\n",
              "\n",
              "    // Use a chunked sending to avoid message size limits. See b/62115660.\n",
              "    let position = 0;\n",
              "    do {\n",
              "      const length = Math.min(fileData.byteLength - position, MAX_PAYLOAD_SIZE);\n",
              "      const chunk = new Uint8Array(fileData, position, length);\n",
              "      position += length;\n",
              "\n",
              "      const base64 = btoa(String.fromCharCode.apply(null, chunk));\n",
              "      yield {\n",
              "        response: {\n",
              "          action: 'append',\n",
              "          file: file.name,\n",
              "          data: base64,\n",
              "        },\n",
              "      };\n",
              "\n",
              "      let percentDone = fileData.byteLength === 0 ?\n",
              "          100 :\n",
              "          Math.round((position / fileData.byteLength) * 100);\n",
              "      percent.textContent = `${percentDone}% done`;\n",
              "\n",
              "    } while (position < fileData.byteLength);\n",
              "  }\n",
              "\n",
              "  // All done.\n",
              "  yield {\n",
              "    response: {\n",
              "      action: 'complete',\n",
              "    }\n",
              "  };\n",
              "}\n",
              "\n",
              "scope.google = scope.google || {};\n",
              "scope.google.colab = scope.google.colab || {};\n",
              "scope.google.colab._files = {\n",
              "  _uploadFiles,\n",
              "  _uploadFilesContinue,\n",
              "};\n",
              "})(self);\n",
              "</script> "
            ]
          },
          "metadata": {}
        },
        {
          "output_type": "stream",
          "name": "stdout",
          "text": [
            "Saving lstm_word2vec_model_multiclase.h5 to lstm_word2vec_model_multiclase.h5\n",
            "Saving lstm_word2vec_model.h5 to lstm_word2vec_model.h5\n"
          ]
        },
        {
          "output_type": "stream",
          "name": "stderr",
          "text": [
            "WARNING:absl:Compiled the loaded model, but the compiled metrics have yet to be built. `model.compile_metrics` will be empty until you train or evaluate the model.\n",
            "WARNING:absl:Compiled the loaded model, but the compiled metrics have yet to be built. `model.compile_metrics` will be empty until you train or evaluate the model.\n"
          ]
        },
        {
          "output_type": "stream",
          "name": "stdout",
          "text": [
            "✅ Modelos cargados correctamente.\n"
          ]
        }
      ]
    },
    {
      "cell_type": "code",
      "source": [
        "from gensim.models import KeyedVectors\n",
        "\n",
        "w2v_model = KeyedVectors.load_word2vec_format(\n",
        "    '/content/drive/MyDrive/Topicos Especiales 2/Proyecto Final/GoogleNews-vectors-negative300.bin',\n",
        "    binary=True\n",
        ")\n",
        "\n",
        "print(\"✅ Modelo Word2Vec cargado exitosamente.\")"
      ],
      "metadata": {
        "colab": {
          "base_uri": "https://localhost:8080/"
        },
        "id": "b9m8CLiOXV8T",
        "outputId": "c8b892a9-d448-4955-e290-8230e6d77002"
      },
      "id": "b9m8CLiOXV8T",
      "execution_count": 4,
      "outputs": [
        {
          "output_type": "stream",
          "name": "stdout",
          "text": [
            "✅ Modelo Word2Vec cargado exitosamente.\n"
          ]
        }
      ]
    },
    {
      "cell_type": "markdown",
      "source": [
        "# **3. Función de predicción**"
      ],
      "metadata": {
        "id": "hvoJbEzmgHdz"
      },
      "id": "hvoJbEzmgHdz"
    },
    {
      "cell_type": "code",
      "source": [
        "def preprocess_text(text):\n",
        "    text = re.sub(r'[^a-zA-Z\\s]', '', text)\n",
        "    text = text.lower()\n",
        "    tokens = word_tokenize(text)\n",
        "    tokens = [word for word in tokens if word not in stopwords.words('english')]\n",
        "    return tokens\n",
        "\n",
        "def vectorize_text(tokens, w2v_model, vector_size=300):\n",
        "    vectors = []\n",
        "    for word in tokens:\n",
        "        if word in w2v_model:\n",
        "            vectors.append(w2v_model[word])\n",
        "    return vectors\n",
        "\n",
        "def prepare_sequences(list_of_vectors, max_len=None):\n",
        "    vector_sequences = [np.array(seq) for seq in list_of_vectors]\n",
        "    if not vector_sequences:\n",
        "        return None\n",
        "    if max_len is None:\n",
        "        max_len = max(len(seq) for seq in vector_sequences)\n",
        "\n",
        "    padded = []\n",
        "    for seq in vector_sequences:\n",
        "        if len(seq) < max_len:\n",
        "            pad_width = ((0, max_len - len(seq)), (0, 0))\n",
        "            padded_seq = np.pad(seq, pad_width, mode='constant')\n",
        "        else:\n",
        "            padded_seq = seq[:max_len]\n",
        "        padded.append(padded_seq)\n",
        "    return np.array(padded)\n"
      ],
      "metadata": {
        "id": "lifV_CaNZm-L"
      },
      "id": "lifV_CaNZm-L",
      "execution_count": 9,
      "outputs": []
    },
    {
      "cell_type": "markdown",
      "source": [
        "# **4. Pruebas automáticas**"
      ],
      "metadata": {
        "id": "2t6kjkomgOoe"
      },
      "id": "2t6kjkomgOoe"
    },
    {
      "cell_type": "code",
      "source": [
        "def predecir_texto(texto, modelo, w2v_model, max_len):\n",
        "    \"\"\"\n",
        "    Preprocesa el texto, lo vectoriza, aplica padding y predice con el modelo entrenado.\n",
        "    \"\"\"\n",
        "    tokens = preprocess_text(texto)\n",
        "    vectorized = vectorize_text(tokens, w2v_model)\n",
        "    if len(vectorized) == 0:\n",
        "        return \"❌ Ninguna palabra reconocida en Word2Vec.\"\n",
        "\n",
        "    padded = prepare_sequences([vectorized], max_len=max_len)\n",
        "\n",
        "    pred = modelo.predict(padded)\n",
        "    clase_predicha = np.argmax(pred)\n",
        "    probabilidad = pred[0][clase_predicha]\n",
        "\n",
        "    etiquetas = {\n",
        "        0: \"Nobleza\",\n",
        "        1: \"Transporte\",\n",
        "        2: \"Ciudad\",\n",
        "        3: \"Clima\"\n",
        "    }\n",
        "\n",
        "    return f\"🧠 Predicción: Clase {clase_predicha} ({etiquetas[clase_predicha]}) con probabilidad {probabilidad:.2%} de confianza\"\n"
      ],
      "metadata": {
        "id": "ayq69HKDacTO"
      },
      "id": "ayq69HKDacTO",
      "execution_count": 11,
      "outputs": []
    },
    {
      "cell_type": "code",
      "source": [
        "ejemplos = [\n",
        "    \"The king is riding a horse.\",\n",
        "    \"A bus is parked next to the garage.\",\n",
        "    \"The mayor announced a new public transport system.\",\n",
        "    \"Rain and storm covered the city during the night.\"\n",
        "]\n",
        "\n",
        "print(\"🔁 Pruebas automáticas con ambos modelos:\\n\")\n",
        "for texto in ejemplos:\n",
        "    print(f\"📝 Texto: {texto}\")\n",
        "    print(\"🔷 Binario:\", predecir_texto(texto, modelo_binario, w2v_model, max_len=15))\n",
        "    print(\"🟣 Multiclase:\", predecir_texto(texto, modelo_multiclase, w2v_model, max_len=15))\n",
        "    print(\"-\" * 60)\n"
      ],
      "metadata": {
        "colab": {
          "base_uri": "https://localhost:8080/"
        },
        "id": "5mAUSzaL4Vz4",
        "outputId": "02aa4e08-9a05-4eca-a142-bada615d0550"
      },
      "id": "5mAUSzaL4Vz4",
      "execution_count": 27,
      "outputs": [
        {
          "output_type": "stream",
          "name": "stdout",
          "text": [
            "🔁 Pruebas automáticas con ambos modelos:\n",
            "\n",
            "📝 Texto: The king is riding a horse.\n",
            "\u001b[1m1/1\u001b[0m \u001b[32m━━━━━━━━━━━━━━━━━━━━\u001b[0m\u001b[37m\u001b[0m \u001b[1m0s\u001b[0m 38ms/step\n",
            "🔷 Binario: 🧠 Predicción: Clase 0 (Nobleza) con probabilidad 100.00% de confianza\n",
            "\u001b[1m1/1\u001b[0m \u001b[32m━━━━━━━━━━━━━━━━━━━━\u001b[0m\u001b[37m\u001b[0m \u001b[1m0s\u001b[0m 36ms/step\n",
            "🟣 Multiclase: 🧠 Predicción: Clase 0 (Nobleza) con probabilidad 96.92% de confianza\n",
            "------------------------------------------------------------\n",
            "📝 Texto: A bus is parked next to the garage.\n",
            "\u001b[1m1/1\u001b[0m \u001b[32m━━━━━━━━━━━━━━━━━━━━\u001b[0m\u001b[37m\u001b[0m \u001b[1m0s\u001b[0m 36ms/step\n",
            "🔷 Binario: 🧠 Predicción: Clase 0 (Nobleza) con probabilidad 0.00% de confianza\n",
            "\u001b[1m1/1\u001b[0m \u001b[32m━━━━━━━━━━━━━━━━━━━━\u001b[0m\u001b[37m\u001b[0m \u001b[1m0s\u001b[0m 36ms/step\n",
            "🟣 Multiclase: 🧠 Predicción: Clase 1 (Transporte) con probabilidad 99.99% de confianza\n",
            "------------------------------------------------------------\n",
            "📝 Texto: The mayor announced a new public transport system.\n",
            "\u001b[1m1/1\u001b[0m \u001b[32m━━━━━━━━━━━━━━━━━━━━\u001b[0m\u001b[37m\u001b[0m \u001b[1m0s\u001b[0m 35ms/step\n",
            "🔷 Binario: 🧠 Predicción: Clase 0 (Nobleza) con probabilidad 33.14% de confianza\n",
            "\u001b[1m1/1\u001b[0m \u001b[32m━━━━━━━━━━━━━━━━━━━━\u001b[0m\u001b[37m\u001b[0m \u001b[1m0s\u001b[0m 36ms/step\n",
            "🟣 Multiclase: 🧠 Predicción: Clase 2 (Ciudad) con probabilidad 99.99% de confianza\n",
            "------------------------------------------------------------\n",
            "📝 Texto: Rain and storm covered the city during the night.\n",
            "\u001b[1m1/1\u001b[0m \u001b[32m━━━━━━━━━━━━━━━━━━━━\u001b[0m\u001b[37m\u001b[0m \u001b[1m0s\u001b[0m 37ms/step\n",
            "🔷 Binario: 🧠 Predicción: Clase 0 (Nobleza) con probabilidad 0.00% de confianza\n",
            "\u001b[1m1/1\u001b[0m \u001b[32m━━━━━━━━━━━━━━━━━━━━\u001b[0m\u001b[37m\u001b[0m \u001b[1m0s\u001b[0m 36ms/step\n",
            "🟣 Multiclase: 🧠 Predicción: Clase 3 (Clima) con probabilidad 100.00% de confianza\n",
            "------------------------------------------------------------\n"
          ]
        }
      ]
    },
    {
      "cell_type": "markdown",
      "source": [
        "# **5. Prueba interactiva**"
      ],
      "metadata": {
        "id": "gcJH39TVhAyN"
      },
      "id": "gcJH39TVhAyN"
    },
    {
      "cell_type": "code",
      "source": [
        "while True:\n",
        "    texto = input(\"✍️ Escribí un texto para clasificar (o escribí 'salir' para terminar):\\n\")\n",
        "\n",
        "    if texto.lower() == 'salir':\n",
        "        print(\"✅ Clasificación finalizada.\")\n",
        "        break\n",
        "\n",
        "    print(\"\\n🔷 Predicción con modelo binario:\")\n",
        "    print(predecir_texto(texto, modelo_binario, w2v_model, max_len=15))\n",
        "\n",
        "    print(\"\\n🟣 Predicción con modelo multiclase:\")\n",
        "    print(predecir_texto(texto, modelo_multiclase, w2v_model, max_len=15))\n",
        "\n",
        "    print(\"\\n\" + \"-\"*60)\n"
      ],
      "metadata": {
        "colab": {
          "base_uri": "https://localhost:8080/"
        },
        "id": "3YltUO1qg5d9",
        "outputId": "8e00f6f9-c2f9-4ce7-c8d9-9803269b167b"
      },
      "id": "3YltUO1qg5d9",
      "execution_count": null,
      "outputs": [
        {
          "output_type": "stream",
          "name": "stdout",
          "text": [
            "✍️ Escribí un texto para clasificar (o escribí 'salir' para terminar):\n",
            "My palace is covered by the heavy snow and rain\n",
            "\n",
            "🔷 Predicción con modelo binario:\n",
            "\u001b[1m1/1\u001b[0m \u001b[32m━━━━━━━━━━━━━━━━━━━━\u001b[0m\u001b[37m\u001b[0m \u001b[1m0s\u001b[0m 36ms/step\n",
            "🧠 Predicción: Clase 0 (Nobleza) con probabilidad 100.00% de confianza\n",
            "\n",
            "🟣 Predicción con modelo multiclase:\n",
            "\u001b[1m1/1\u001b[0m \u001b[32m━━━━━━━━━━━━━━━━━━━━\u001b[0m\u001b[37m\u001b[0m \u001b[1m0s\u001b[0m 34ms/step\n",
            "🧠 Predicción: Clase 3 (Clima) con probabilidad 100.00% de confianza\n",
            "\n",
            "------------------------------------------------------------\n",
            "✍️ Escribí un texto para clasificar (o escribí 'salir' para terminar):\n",
            "The royal family is visiting the city, thats why the city is covered with all kind of decorations\n",
            "\n",
            "🔷 Predicción con modelo binario:\n",
            "\u001b[1m1/1\u001b[0m \u001b[32m━━━━━━━━━━━━━━━━━━━━\u001b[0m\u001b[37m\u001b[0m \u001b[1m0s\u001b[0m 37ms/step\n",
            "🧠 Predicción: Clase 0 (Nobleza) con probabilidad 100.00% de confianza\n",
            "\n",
            "🟣 Predicción con modelo multiclase:\n",
            "\u001b[1m1/1\u001b[0m \u001b[32m━━━━━━━━━━━━━━━━━━━━\u001b[0m\u001b[37m\u001b[0m \u001b[1m0s\u001b[0m 36ms/step\n",
            "🧠 Predicción: Clase 2 (Ciudad) con probabilidad 99.96% de confianza\n",
            "\n",
            "------------------------------------------------------------\n",
            "✍️ Escribí un texto para clasificar (o escribí 'salir' para terminar):\n",
            "The king is ridden his horse instead of using his carriage\n",
            "\n",
            "🔷 Predicción con modelo binario:\n",
            "\u001b[1m1/1\u001b[0m \u001b[32m━━━━━━━━━━━━━━━━━━━━\u001b[0m\u001b[37m\u001b[0m \u001b[1m0s\u001b[0m 38ms/step\n",
            "🧠 Predicción: Clase 0 (Nobleza) con probabilidad 100.00% de confianza\n",
            "\n",
            "🟣 Predicción con modelo multiclase:\n",
            "\u001b[1m1/1\u001b[0m \u001b[32m━━━━━━━━━━━━━━━━━━━━\u001b[0m\u001b[37m\u001b[0m \u001b[1m0s\u001b[0m 35ms/step\n",
            "🧠 Predicción: Clase 0 (Nobleza) con probabilidad 99.63% de confianza\n",
            "\n",
            "------------------------------------------------------------\n",
            "✍️ Escribí un texto para clasificar (o escribí 'salir' para terminar):\n",
            "The king is ridden his horse instead of using his brand-new car\n",
            "\n",
            "🔷 Predicción con modelo binario:\n",
            "\u001b[1m1/1\u001b[0m \u001b[32m━━━━━━━━━━━━━━━━━━━━\u001b[0m\u001b[37m\u001b[0m \u001b[1m0s\u001b[0m 37ms/step\n",
            "🧠 Predicción: Clase 0 (Nobleza) con probabilidad 100.00% de confianza\n",
            "\n",
            "🟣 Predicción con modelo multiclase:\n",
            "\u001b[1m1/1\u001b[0m \u001b[32m━━━━━━━━━━━━━━━━━━━━\u001b[0m\u001b[37m\u001b[0m \u001b[1m0s\u001b[0m 37ms/step\n",
            "🧠 Predicción: Clase 0 (Nobleza) con probabilidad 98.38% de confianza\n",
            "\n",
            "------------------------------------------------------------\n",
            "✍️ Escribí un texto para clasificar (o escribí 'salir' para terminar):\n",
            "The king is ridden his horse instead of the truck\n",
            "\n",
            "🔷 Predicción con modelo binario:\n",
            "\u001b[1m1/1\u001b[0m \u001b[32m━━━━━━━━━━━━━━━━━━━━\u001b[0m\u001b[37m\u001b[0m \u001b[1m0s\u001b[0m 35ms/step\n",
            "🧠 Predicción: Clase 0 (Nobleza) con probabilidad 100.00% de confianza\n",
            "\n",
            "🟣 Predicción con modelo multiclase:\n",
            "\u001b[1m1/1\u001b[0m \u001b[32m━━━━━━━━━━━━━━━━━━━━\u001b[0m\u001b[37m\u001b[0m \u001b[1m0s\u001b[0m 34ms/step\n",
            "🧠 Predicción: Clase 0 (Nobleza) con probabilidad 96.65% de confianza\n",
            "\n",
            "------------------------------------------------------------\n"
          ]
        }
      ]
    }
  ],
  "metadata": {
    "kernelspec": {
      "display_name": "Python 3",
      "name": "python3"
    },
    "language_info": {
      "name": "python",
      "version": "3.10"
    },
    "colab": {
      "provenance": [],
      "machine_shape": "hm",
      "gpuType": "A100"
    },
    "accelerator": "GPU"
  },
  "nbformat": 4,
  "nbformat_minor": 5
}